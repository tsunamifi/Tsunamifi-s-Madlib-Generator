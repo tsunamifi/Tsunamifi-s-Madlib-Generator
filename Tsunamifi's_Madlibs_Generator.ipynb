{
  "nbformat": 4,
  "nbformat_minor": 0,
  "metadata": {
    "colab": {
      "name": "Tsunamifi's Madlibs Generator.ipynb",
      "provenance": [],
      "collapsed_sections": [
        "2_ngHZbCIRlK"
      ],
      "authorship_tag": "ABX9TyMgQVHyKkp9NjQ89yVHn2fi",
      "include_colab_link": true
    },
    "kernelspec": {
      "name": "python3",
      "display_name": "Python 3"
    },
    "language_info": {
      "name": "python"
    }
  },
  "cells": [
    {
      "cell_type": "markdown",
      "metadata": {
        "id": "view-in-github",
        "colab_type": "text"
      },
      "source": [
        "<a href=\"https://colab.research.google.com/github/tsunamifi/Tsunamifi-s-Madlib-Generator/blob/main/Tsunamifi's_Madlibs_Generator.ipynb\" target=\"_parent\"><img src=\"https://colab.research.google.com/assets/colab-badge.svg\" alt=\"Open In Colab\"/></a>"
      ]
    },
    {
      "cell_type": "markdown",
      "source": [
        "# MadLib Generator :)"
      ],
      "metadata": {
        "id": "oKgE-GT7f2uD"
      }
    },
    {
      "cell_type": "markdown",
      "source": [
        "# *RUN BEFORE PLAYING (NECESSARY)*\n"
      ],
      "metadata": {
        "id": "2_ngHZbCIRlK"
      }
    },
    {
      "cell_type": "code",
      "source": [
        "#importing things here\n",
        "import os\n",
        "from google.colab import output\n",
        "from google.colab import widgets\n",
        "from IPython.display import HTML, display\n",
        "import textwrap"
      ],
      "metadata": {
        "id": "MULTEnnpLEVP"
      },
      "execution_count": 1,
      "outputs": []
    },
    {
      "cell_type": "code",
      "source": [
        "\n",
        "\n",
        "#defining functions here\n",
        "\n",
        "\n",
        "## creating user input for variables then placing the variables inside of the actual madlib story\n",
        "def madlib1():\n",
        "\n",
        "        noun = input(' enter a noun: ' )\n",
        "        noun2 =  input(' enter another noun: ' ) \n",
        "        verb =   input('enter a verb(ing):  ' ) \n",
        "        verb2 =   input('enter a different verb(ing):  ' )\n",
        "        bodys =  input('enter a body part (plural):  ' ) \n",
        "        emo =  input('enter an emotion:  ' ) \n",
        "        adj =  input('enter an adjective:  ' ) \n",
        "        adj2 =  input('enter a second adjective:  ' )\n",
        "        adj3 =  input('enter a third adjective:  ' )\n",
        "        name =  input('enter a male name:  ' ) \n",
        "        name2 =  input('enter a female name:  ' )\n",
        "        drink = input('enter a type of drink: ') \n",
        "        city = input('enter a city: ')\n",
        "\n",
        "        stry = ('\\033[1m' + '\\033[3m' + name  + '\\033[0m' + '\\033[1m' + ' looked at the ' + '\\033[3m' + adj3 + ' ' + noun + ' in his hands and felt ' + '\\033[3m' + emo + '\\033[0m' + '\\033[1m' + '. He walked over to the window and reflected on his ' + '\\033[3m' + adj2 + '\\033[0m' + '\\033[1m' + ' surroundings. He had always loved ' \n",
        "         '\\033[3m' + adj + ' ' + city + '\\033[0m' + '\\033[1m' + ' with its many mountains. It was a place that encouraged his tendency to feel ' + '\\033[3m' + emo + '\\033[0m' + '\\033[1m' + '. Then he saw something in the distance, or rather someone. It was the figure' \n",
        "         ' of ' + '\\033[3m' + name2 + '\\033[0m' + '\\033[1m' + '. ' + '\\033[3m' + name2 + ' was a gentle saint with flawless ' + '\\033[3m' + bodys + '\\033[0m' + '\\033[1m' + ' and a heart filled with ambition. ' + '\\033[3m' + name + '\\033[0m' + '\\033[1m' + ' was shocked. His friends saw him as a helpful hero. Once, he had even helped a puppy cross the road. But not even a remarkable person who had once helped a puppy cross the road, was ' \n",
        "         'prepared for what ' + '\\033[3m' + name2 + '\\033[0m' + '\\033[1m' + ' had in store today. \"The warrior exams ended, and all the others are ' + '\\033[3m' + verb + '\\033[0m' + '\\033[1m' + ' with their partners\", making ' + '\\033[3m' + name2 + '\\033[0m' + '\\033[1m' + ' sad. As ' + '\\033[3m' + name + '\\033[0m' + '\\033[1m' + ' stepped '\n",
        "         'outside and ' + '\\033[3m' + name2 + '\\033[0m' + '\\033[1m' + ' came closer, he could see the shivering glint in her eye. ' + '\\033[3m' + name2 + '\\033[0m' + '\\033[1m' + ' looked with the pain on her face. She said, in frustration, \"There is no one left for me. ' \n",
        "         'I want a partnership, I want to fight and do good with you.\" ' + '\\033[3m' + name + '\\033[0m' + '\\033[1m' + ' looked back, and still fidgeting with the ' + '\\033[3m' + adj3 + ' ' + noun + '\\033[0m' + '\\033[1m' + ', \"' + '\\033[3m' + name2 + '\\033[0m' + '\\033[1m' + ', you really want to be my partner?\", he replied. ' \n",
        "         '\\033[3m' + name + '\\033[0m' + '\\033[1m' + ' thought it over, and decided it was better than having to keep ' + '\\033[3m'  + verb2 + '\\033[0m' + '\\033[1m' + ' all these foes by him self, ' + '\\033[3m'  + name  + '\\033[0m' + '\\033[1m' + ' could use ' + '\\033[3m'  + name2  + '\\033[0m' + '\\033[1m' + 's flawless ' + '\\033[3m'  + bodys  + '\\033[0m' + '\\033[1m' + ' and heart of ambition. \"Its settled' \n",
        "         ', we are a team now.\" revealed ' + '\\033[3m' + name + '\\033[0m' + '\\033[1m' + ' with a grin. ' + '\\033[3m' + name2 + '\\033[0m' + '\\033[1m' + ' looked happy, her emotions erupting like a noisy ' + '\\033[3m' + noun2 + '\\033[0m' + '\\033[1m' + '. Then ' + '\\033[3m' + name2 + '\\033[0m' + '\\033[1m' + ' came inside for a nice drink of ' + '\\033[3m' + drink +\n",
        "         \n",
        "         ' THE END.')\n",
        "       \n",
        "  \n",
        "       \n",
        "      \n",
        "        print(textwrap.fill(stry, 80)) \n",
        "       \n",
        "       \n",
        "def  madlib2():\n",
        "\n",
        "        noun = input(' enter a noun: ' )\n",
        "        cash1 =   input('enter number:  ' ) \n",
        "        cash2 =   input('enter another number:  ' )\n",
        "        name =  input('enter a name:  ' ) \n",
        "        emo =  input('enter an emotion(-ness or -ion):  ' ) \n",
        "        adj =  input('enter an adjective:  ' ) \n",
        "        adj2 =  input('enter a second adjective:  ' )\n",
        "        gender =  input('boy or girl:  ' ) \n",
        "\n",
        "        stry =  ('\\033[1m' + '\\033[3m' + emo + '\\033[0m' + '\\033[1m' + ' was on the rise. I had to buy a new car. How much would it cost? $' + '\\033[3m' + cash1 + '\\033[0m' + '\\033[1m' + '? $' + '\\033[3m' + cash2 + '\\033[0m' + '\\033[1m' + '? I had no clue but I knew it would be expensive.'\n",
        "'I got to the dealership, and the salesman did not seem very knowledgeable about cars. He was wearing a tight-fitting ' + '\\033[3m'  + adj2 + '\\033[0m' + '\\033[1m' + ' suit that looked like it was about to burst at the seams and his hair looked like he had just been electrocuted. When I asked him which one he recommended, he said that he was really fond of the car with ' + '\\033[3m' + adj + '\\033[0m' + '\\033[1m' + ' wheels. '\n",
        "' He slaps the roof of car with the ' + '\\033[3m' + adj + '\\033[0m' + '\\033[1m' + ' wheels and says \"This bad ' + '\\033[3m' + gender + '\\033[0m' + '\\033[1m' + ' can fit so many ' + '\\033[3m' + noun + '\\033[0m' + '\\033[1m' + ' in it\" '\n",
        "'I asked the salesman what his name was and he replied, \"' + '\\033[3m' + name + '\\033[0m' + '\\033[1m' + \"'. I said, \" + '\\033[3m' + name + '\\033[0m' + '\\033[1m' + ', would you be offended if I called you a terrible car salesman?\" '\n",
        "' He laughed and said, \"No. It is actually a term of endearment in our industry. I then smiled and said, \"In that case  ' + '\\033[3m' + name + '\\033[0m' + '\\033[1m' + ', I am NOT buying your car.\"')\n",
        "\n",
        "        print(textwrap.fill(stry, 80))\n",
        "\n",
        "def mlc():\n",
        "    if madlib_choice == 'The lonely companion':\n",
        "       madlib1()\n",
        "    else:\n",
        "       madlib2()\n",
        "\n",
        "## asks user if they would like to run the application over again\n",
        "def WPA(): #wanna play again?\n",
        "      while True:\n",
        "       Answer = input(' Would you like to play this Madlib again?: ')\n",
        "       if Answer == 'yes' or Answer == 'Yes':\n",
        "        mlc()\n",
        "        output.clear()\n",
        "       elif Answer == (\"no\") or (\"No\"):\n",
        "        print('Thanks for playing! Try my other madlibs!')\n",
        "        break\n",
        "        output.clear()\n",
        "       \n",
        "\n"
      ],
      "metadata": {
        "id": "NyQ3WMV_gGsI"
      },
      "execution_count": 40,
      "outputs": []
    },
    {
      "cell_type": "markdown",
      "source": [
        "# *OK, we can play now!*"
      ],
      "metadata": {
        "id": "z3miIggBIO-w"
      }
    },
    {
      "cell_type": "code",
      "source": [
        "#@title Choose which madlib to play!\n",
        "madlib_choice = \"Lost my business\" #@param [\"The lonely companion\", \"Lost my business\"]\n",
        "# code to play\n",
        "\n",
        "## call madlib function\n",
        "\n",
        "if madlib_choice == 'The lonely companion':\n",
        " madlib1()\n",
        "else:\n",
        " madlib2()\n",
        "output.\n",
        "## just a separator so its easier on your eyes\n",
        "print('------------------------------------------------------------')\n",
        "\n",
        "## call play again function\n",
        "WPA()"
      ],
      "metadata": {
        "cellView": "form",
        "id": "qkY5yyeRgIry"
      },
      "execution_count": null,
      "outputs": []
    }
  ]
}