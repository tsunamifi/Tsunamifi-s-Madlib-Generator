{
  "nbformat": 4,
  "nbformat_minor": 0,
  "metadata": {
    "colab": {
      "name": "Tsunamifi's Madlibs Generator.ipynb",
      "provenance": [],
      "collapsed_sections": [],
      "authorship_tag": "ABX9TyNaMZL9DVChfbANJvVpyNex",
      "include_colab_link": true
    },
    "kernelspec": {
      "name": "python3",
      "display_name": "Python 3"
    },
    "language_info": {
      "name": "python"
    }
  },
  "cells": [
    {
      "cell_type": "markdown",
      "metadata": {
        "id": "view-in-github",
        "colab_type": "text"
      },
      "source": [
        "<a href=\"https://colab.research.google.com/github/tsunamifi/Tsunamifi-s-Madlib-Generator/blob/main/Tsunamifi's_Madlibs_Generator.ipynb\" target=\"_parent\"><img src=\"https://colab.research.google.com/assets/colab-badge.svg\" alt=\"Open In Colab\"/></a>"
      ]
    },
    {
      "cell_type": "markdown",
      "source": [
        "# MadLib Generator :)"
      ],
      "metadata": {
        "id": "oKgE-GT7f2uD"
      }
    },
    {
      "cell_type": "markdown",
      "source": [
        "# *RUN BEFORE PLAYING (NECESSARY)*\n"
      ],
      "metadata": {
        "id": "2_ngHZbCIRlK"
      }
    },
    {
      "cell_type": "code",
      "source": [
        "#importing things here\n",
        "import os\n",
        "from google.colab import output\n",
        "from google.colab import widgets\n",
        "from IPython.display import HTML, display\n",
        "import textwrap"
      ],
      "metadata": {
        "id": "MULTEnnpLEVP"
      },
      "execution_count": 1,
      "outputs": []
    },
    {
      "cell_type": "code",
      "source": [
        "\n",
        "\n",
        "#defining functions here\n",
        "\n",
        "\n",
        "def madlib():\n",
        "\n",
        "        global noun, noun2, verb, verb2, bodys, emo, adj, adj2, adj3, name, name2, drink, city\n",
        "        \n",
        "        noun = input(' enter a noun')\n",
        "        noun2 =  input(' enter another noun: ' ) \n",
        "        verb =   input('enter a verb(ing):  ' ) \n",
        "        verb2 =   input('enter a different verb(ing):  ' )\n",
        "        bodys =  input('enter a body part (plural):  ' ) \n",
        "        emo =  input('enter an emotion:  ' ) \n",
        "        adj =  input('enter an adjective:  ' ) \n",
        "        adj2 =  input('enter a second adjective:  ' )\n",
        "        adj3 =  input('enter a third adjective:  ' )\n",
        "        name =  input('enter a male name:  ' ) \n",
        "        name2 =  input('enter a female name:  ' )\n",
        "        drink = input('enter a type of drink: ') \n",
        "        city = input('enter a city: ')\n",
        "        \n",
        "def story():\n",
        "\n",
        "\n",
        "      stry = ('\\033[1m' + '\\033[3m' + name  + '\\033[0m' + '\\033[1m' + ' looked at the ' + '\\033[3m' + adj3 + ' ' + noun + ' in his hands and felt ' + '\\033[3m' + emo + '\\033[0m' + '\\033[1m' + '. He walked over to the window and reflected on his ' + '\\033[3m' + adj2 + '\\033[0m' + '\\033[1m' + ' surroundings. He had always loved ' \n",
        "         '\\033[3m' + adj + ' ' + city + '\\033[0m' + '\\033[1m' + ' with its many mountains. It was a place that encouraged his tendency to feel ' + '\\033[3m' + emo + '\\033[0m' + '\\033[1m' + '. Then he saw something in the distance, or rather someone. It was the figure' \n",
        "         ' of ' + '\\033[3m' + name2 + '\\033[0m' + '\\033[1m' + '. ' + '\\033[3m' + name2 + ' was a gentle saint with flawless ' + '\\033[3m' + bodys + '\\033[0m' + '\\033[1m' + ' and a heart filled with ambition. ' + '\\033[3m' + name + '\\033[0m' + '\\033[1m' + ' was shocked. His friends saw him as a helpful hero. Once, he had even helped a puppy cross the road. But not even a remarkable person who had once helped a puppy cross the road, was ' \n",
        "         'prepared for what ' + '\\033[3m' + name2 + '\\033[0m' + '\\033[1m' + ' had in store today. \"The warrior exams ended, and all the others are ' + '\\033[3m' + verb + '\\033[0m' + '\\033[1m' + ' with their partners\", making ' + '\\033[3m' + name2 + '\\033[0m' + '\\033[1m' + ' sad. As ' + '\\033[3m' + name + '\\033[0m' + '\\033[1m' + ' stepped '\n",
        "         'outside and ' + '\\033[3m' + name2 + '\\033[0m' + '\\033[1m' + ' came closer, he could see the shivering glint in her eye. ' + '\\033[3m' + name2 + '\\033[0m' + '\\033[1m' + ' looked with the pain on her face. She said, in frustration, \"There is no one left for me. ' \n",
        "         'I want a partnership, I want to fight and do good with you.\" ' + '\\033[3m' + name + '\\033[0m' + '\\033[1m' + ' looked back, and still fidgeting with the ' + '\\033[3m' + adj3 + ' ' + noun + '\\033[0m' + '\\033[1m' + ', \"' + '\\033[3m' + name2 + '\\033[0m' + '\\033[1m' + ', you really want to be my partner?\", he replied. ' \n",
        "         '\\033[3m' + name + '\\033[0m' + '\\033[1m' + ' thought it over, and decided it was better than having to keep ' + '\\033[3m'  + verb2 + '\\033[0m' + '\\033[1m' + ' all these foes by him self, ' + '\\033[3m'  + name  + '\\033[0m' + '\\033[1m' + ' could use ' + '\\033[3m'  + name2  + '\\033[0m' + '\\033[1m' + 's flawless ' + '\\033[3m'  + bodys  + '\\033[0m' + '\\033[1m' + ' and heart of ambition. \"Its settled' \n",
        "         ', we are a team now.\" revealed ' + '\\033[3m' + name + '\\033[0m' + '\\033[1m' + ' with a grin. ' + '\\033[3m' + name2 + '\\033[0m' + '\\033[1m' + ' looked happy, her emotions erupting like a noisy ' + '\\033[3m' + noun2 + '\\033[0m' + '\\033[1m' + '. Then ' + '\\033[3m' + name2 + '\\033[0m' + '\\033[1m' + ' came inside for a nice drink of ' + '\\033[3m' + drink +\n",
        "         \n",
        "         ' THE END.')\n",
        "       \n",
        "  \n",
        "       \n",
        "      \n",
        "      print(textwrap.fill(stry, 80)) \n",
        "       \n",
        "       \n",
        "\n",
        "def WPA(): #wanna play again?\n",
        "      while True:\n",
        "       Answer = input(' Would you like to play this Madlib again?: ')\n",
        "       if Answer == 'yes' or Answer == 'Yes':\n",
        "        madlib()\n",
        "        story()\n",
        "       elif Answer == (\"no\") or (\"No\"):\n",
        "        break\n",
        "        print('Thanks for playing!')\n",
        "        output.clear()\n",
        "      \n",
        "       \n",
        "\n"
      ],
      "metadata": {
        "id": "NyQ3WMV_gGsI"
      },
      "execution_count": 3,
      "outputs": []
    },
    {
      "cell_type": "markdown",
      "source": [
        "# *OK, we can play now!*"
      ],
      "metadata": {
        "id": "z3miIggBIO-w"
      }
    },
    {
      "cell_type": "code",
      "source": [
        "\n",
        "# code to play\n",
        "\n",
        "# Set up the while loop.\n",
        "\n",
        "\n",
        "## call madlib function\n",
        "madlib()\n",
        "\n",
        "## call clear screen function\n",
        "output.clear()\n",
        "\n",
        " ## call story function\n",
        "story()\n",
        "print('------------------------------------------------------------')\n",
        "\n",
        "## call play again function\n",
        "WPA()\n",
        "\n"
      ],
      "metadata": {
        "colab": {
          "base_uri": "https://localhost:8080/"
        },
        "cellView": "code",
        "id": "qkY5yyeRgIry",
        "outputId": "6786fe6e-5648-4d19-fb53-a22833ff396f"
      },
      "execution_count": 4,
      "outputs": [
        {
          "name": "stdout",
          "output_type": "stream",
          "text": [
            "\u001b[1m\u001b[3mjohn\u001b[0m\u001b[1m looked at the \u001b[3mwarm book in his hands and felt\n",
            "\u001b[3mhappy\u001b[0m\u001b[1m. He walked over to the window and reflected on his\n",
            "\u001b[3mpink\u001b[0m\u001b[1m surroundings. He had always loved \u001b[3mloud spring lake\u001b[0m\u001b[1m\n",
            "with its many mountains. It was a place that encouraged his tendency to feel\n",
            "\u001b[3mhappy\u001b[0m\u001b[1m. Then he saw something in the distance, or rather someone. It\n",
            "was the figure of \u001b[3mmya\u001b[0m\u001b[1m. \u001b[3mmya was a gentle saint with flawless\n",
            "\u001b[3mnails\u001b[0m\u001b[1m and a heart filled with ambition. \u001b[3mjohn\u001b[0m\u001b[1m was\n",
            "shocked. His friends saw him as a helpful hero. Once, he had even helped a puppy\n",
            "cross the road. But not even a remarkable person who had once helped a puppy\n",
            "cross the road, was prepared for what \u001b[3mmya\u001b[0m\u001b[1m had in store today. \"The\n",
            "warrior exams ended, and all the others are \u001b[3mkicking\u001b[0m\u001b[1m with their\n",
            "partners\", making \u001b[3mmya\u001b[0m\u001b[1m sad. As \u001b[3mjohn\u001b[0m\u001b[1m stepped outside and\n",
            "\u001b[3mmya\u001b[0m\u001b[1m came closer, he could see the shivering glint in her eye.\n",
            "\u001b[3mmya\u001b[0m\u001b[1m looked with the pain on her face. She said, in frustration,\n",
            "\"There is no one left for me. I want a partnership, I want to fight and do good\n",
            "with you.\" \u001b[3mjohn\u001b[0m\u001b[1m looked back, and still fidgeting with the \u001b[3mwarm\n",
            "book\u001b[0m\u001b[1m, \"\u001b[3mmya\u001b[0m\u001b[1m, you really want to be my partner?\", he replied.\n",
            "\u001b[3mjohn\u001b[0m\u001b[1m thought it over, and decided it was better than having to keep\n",
            "\u001b[3mlicking\u001b[0m\u001b[1m all these foes by him self, \u001b[3mjohn\u001b[0m\u001b[1m could use\n",
            "\u001b[3mmya\u001b[0m\u001b[1ms flawless \u001b[3mnails\u001b[0m\u001b[1m and heart of ambition. \"Its settled,\n",
            "we are a team now.\" revealed \u001b[3mjohn\u001b[0m\u001b[1m with a grin. \u001b[3mmya\u001b[0m\u001b[1m\n",
            "looked happy, her emotions erupting like a noisy \u001b[3mtime\u001b[0m\u001b[1m. Then\n",
            "\u001b[3mmya\u001b[0m\u001b[1m came inside for a nice drink of \u001b[3mwater THE END.\n",
            "------------------------------------------------------------\n",
            " Would you like to play this Madlib again?: no\n"
          ]
        }
      ]
    }
  ]
}